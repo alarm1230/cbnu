{
 "cells": [
  {
   "cell_type": "code",
   "execution_count": 2,
   "metadata": {},
   "outputs": [],
   "source": [
    "# 음성인식 : cnn + rnn + dnn\n",
    "\n",
    "import os\n",
    "import numpy as np\n",
    "import pandas as pd\n",
    "import random\n",
    "from time import time\n",
    "\n",
    "from sklearn.preprocessing import LabelEncoder\n",
    "from sklearn.model_selection import train_test_split\n",
    "from keras.utils.np_utils import to_categorical\n",
    "\n",
    "from tqdm import tqdm\n",
    "import librosa\n",
    "import librosa.display\n",
    "import matplotlib.pyplot as plt\n",
    "\n",
    "from keras.layers import Bidirectional, BatchNormalization\n",
    "from keras.layers import GRU, Dense, Dropout\n",
    "from keras.layers import Conv1D, MaxPool1D, Input\n",
    "from keras.models import Model\n"
   ]
  },
  {
   "cell_type": "code",
   "execution_count": 3,
   "metadata": {},
   "outputs": [],
   "source": [
    "# 하이퍼 파라미터 설정\n",
    "\n",
    "my_split = 0.8\n",
    "my_hidden = 128\n",
    "my_drop = 0.3\n",
    "my_batch = 100\n",
    "my_epoch = 100\n",
    "my_rate = 8000\n",
    "\n",
    "# 모드 선택\n",
    "\n",
    "data_mode = 0\n",
    "train_mode = 0\n",
    "\n",
    "# 데이터 저장 창고\n",
    "\n",
    "all_wave = []       # 처리된 음성 데이터\n",
    "all_label = []      # 처리된 음성 라벨\n",
    "\n",
    "my_path = '데이터셋/audio'"
   ]
  },
  {
   "cell_type": "code",
   "execution_count": 4,
   "metadata": {},
   "outputs": [
    {
     "name": "stdout",
     "output_type": "stream",
     "text": [
      "오디오 데이터 원본 : [ 1.2472774e-04 -1.0550164e-04 -2.6962085e-04 ...  5.1089493e-05\n",
      "  3.3633485e-05 -2.3895914e-06]\n",
      "오디오 데이터 길이 : 22050\n"
     ]
    },
    {
     "data": {
      "text/plain": [
       "<matplotlib.collections.PolyCollection at 0x226846b2a00>"
      ]
     },
     "execution_count": 4,
     "metadata": {},
     "output_type": "execute_result"
    },
    {
     "data": {
      "image/png": "[encoded data removed]",
      "text/plain": [
       "<Figure size 432x288 with 1 Axes>"
      ]
     },
     "metadata": {
      "needs_background": "light"
     },
     "output_type": "display_data"
    }
   ],
   "source": [
    "# 음성 라벨 처리\n",
    "\n",
    "labels = ['go', 'happy', 'seven', 'stop', 'yes']\n",
    "\n",
    "\n",
    "# 샘플 오디오 파일 읽기\n",
    "\n",
    "path = os.path.join(my_path, 'SKL-yes.wav')\n",
    "\n",
    "sound, rate = librosa.load(path)\n",
    "\n",
    "print('오디오 데이터 원본 :', sound)        # *sound은 전체 찍기\n",
    "print('오디오 데이터 길이 :', len(sound))   # 22.05 khz  =  22050 hz\n",
    "\n",
    "\n",
    "# 오디오 데이터 시각화\n",
    "\n",
    "librosa.display.waveplot(sound, rate)"
   ]
  },
  {
   "cell_type": "code",
   "execution_count": 5,
   "metadata": {},
   "outputs": [],
   "source": [
    "# 오디오 다운 샘플링\n",
    "\n",
    "def read_wave():\n",
    "    print('resampling start')\n",
    "\n",
    "    # tqdm 함수로 진행 상황 출력\n",
    "    for label in tqdm(labels):\n",
    "        path = my_path + '/' + label\n",
    "\n",
    "        waves = [file for file in os.listdir(path)]\n",
    "        # print(waves)\n",
    "\n",
    "        for wav in waves:\n",
    "            full_path = path + '/' + wav\n",
    "            # sprint(full_path)\n",
    "            sound, rate = librosa.load(full_path)\n",
    "\n",
    "            # 8khz로 다운 샘플링\n",
    "            # 22050개의 숫자를 8000개로 줄이는 과정\n",
    "            # librosa의 resample 함수는 성공의 보장이 없음\n",
    "            new_sample = librosa.resample(sound, orig_sr=rate, target_sr=my_rate)\n",
    "\n",
    "            # 따라서 다운 샘플링이 성공적으로 8khz로 된 것만 저장\n",
    "            if (len(new_sample)==8000):\n",
    "                all_wave.append(new_sample)\n",
    "                all_label.append(label)\n",
    "    \n",
    "    print('resampling finished')\n",
    "    print('정상 다운 샘플링 처리된 데이터 수 :', len(all_wave))\n"
   ]
  },
  {
   "cell_type": "code",
   "execution_count": 6,
   "metadata": {},
   "outputs": [],
   "source": [
    "# 라벨 처리 (토큰 처리)\n",
    "\n",
    "# sklearn의 라벨 처리 : 시작 숫자 0\n",
    "# keras의 라벨 처리 : 시작 숫자 0\n",
    "\n",
    "def wave_label_encoding():\n",
    "    global all_label, all_wave\n",
    "\n",
    "    # print('토큰 처리 전 라벨 :', all_label)\n",
    "\n",
    "    encoder = LabelEncoder()\n",
    "\n",
    "    all_label = encoder.fit_transform(all_label)\n",
    "\n",
    "    # print('토큰 처리 후 라벨 :', all_label)\n",
    "\n",
    "    # 원핫 인코딩 처리\n",
    "    all_label = to_categorical(all_label, 5)\n",
    "\n",
    "    # 넘파이로 변환, -1 은 keras가 알아서 계산하라는 뜻\n",
    "    all_wave = np.array(all_wave)\n",
    "    all_wave = all_wave.reshape(-1, my_rate, 1)\n",
    "\n"
   ]
  },
  {
   "cell_type": "code",
   "execution_count": 7,
   "metadata": {},
   "outputs": [
    {
     "name": "stdout",
     "output_type": "stream",
     "text": [
      "데이터 파일 읽기 완료\n"
     ]
    }
   ],
   "source": [
    "# control cell\n",
    "path = os.path.join(my_path, 'audio.npy')\n",
    "\n",
    "if data_mode:\n",
    "    read_wave()\n",
    "    wave_label_encoding()\n",
    "    \n",
    "    with open(path, 'wb') as file:\n",
    "        np.save(file, all_wave)\n",
    "        np.save(file, all_label)\n",
    "\n",
    "    print('데이터 처리 및 저장 완료')\n",
    "else:\n",
    "    with open(path, 'rb') as file:\n",
    "        all_wave = np.load(file)\n",
    "        all_label = np.load(file)\n",
    "\n",
    "    print('데이터 파일 읽기 완료')"
   ]
  },
  {
   "cell_type": "code",
   "execution_count": 8,
   "metadata": {},
   "outputs": [
    {
     "name": "stdout",
     "output_type": "stream",
     "text": [
      "학습용 입력: (711, 8000, 1)\n",
      "학습용 출력: (711, 5)\n",
      "평가용 입력: (178, 8000, 1)\n",
      "평가용 출력: (178, 5)\n"
     ]
    }
   ],
   "source": [
    "# 데이터 4분할\n",
    "x_train, x_test, y_train, y_test = train_test_split(all_wave,\n",
    "                                                    all_label,\n",
    "                                                    train_size=my_split,\n",
    "                                                    shuffle=True)\n",
    "\n",
    "# 데이터 모양\n",
    "print('학습용 입력:', x_train.shape)\n",
    "print('학습용 출력:', y_train.shape)\n",
    "\n",
    "print('평가용 입력:', x_test.shape)\n",
    "print('평가용 출력:', y_test.shape)"
   ]
  },
  {
   "cell_type": "code",
   "execution_count": 9,
   "metadata": {},
   "outputs": [
    {
     "name": "stdout",
     "output_type": "stream",
     "text": [
      "Model: \"model\"\n",
      "_________________________________________________________________\n",
      "Layer (type)                 Output Shape              Param #   \n",
      "=================================================================\n",
      "input_1 (InputLayer)         [(None, 8000, 1)]         0         \n",
      "_________________________________________________________________\n",
      "batch_normalization (BatchNo (None, 8000, 1)           4         \n",
      "_________________________________________________________________\n",
      "conv1d (Conv1D)              (None, 7988, 8)           112       \n",
      "_________________________________________________________________\n",
      "max_pooling1d (MaxPooling1D) (None, 2662, 8)           0         \n",
      "_________________________________________________________________\n",
      "dropout (Dropout)            (None, 2662, 8)           0         \n",
      "_________________________________________________________________\n",
      "conv1d_1 (Conv1D)            (None, 2652, 16)          1424      \n",
      "_________________________________________________________________\n",
      "max_pooling1d_1 (MaxPooling1 (None, 884, 16)           0         \n",
      "_________________________________________________________________\n",
      "dropout_1 (Dropout)          (None, 884, 16)           0         \n",
      "_________________________________________________________________\n",
      "conv1d_2 (Conv1D)            (None, 876, 32)           4640      \n",
      "_________________________________________________________________\n",
      "max_pooling1d_2 (MaxPooling1 (None, 292, 32)           0         \n",
      "_________________________________________________________________\n",
      "dropout_2 (Dropout)          (None, 292, 32)           0         \n",
      "_________________________________________________________________\n",
      "batch_normalization_1 (Batch (None, 292, 32)           128       \n",
      "_________________________________________________________________\n",
      "bidirectional (Bidirectional (None, 292, 128)          124416    \n",
      "_________________________________________________________________\n",
      "bidirectional_1 (Bidirection (None, 292, 128)          198144    \n",
      "_________________________________________________________________\n",
      "bidirectional_2 (Bidirection (None, 128)               198144    \n",
      "_________________________________________________________________\n",
      "batch_normalization_2 (Batch (None, 128)               512       \n",
      "_________________________________________________________________\n",
      "dense (Dense)                (None, 256)               33024     \n",
      "_________________________________________________________________\n",
      "dense_1 (Dense)              (None, 10)                2570      \n",
      "_________________________________________________________________\n",
      "dense_2 (Dense)              (None, 5)                 55        \n",
      "=================================================================\n",
      "Total params: 563,173\n",
      "Trainable params: 562,851\n",
      "Non-trainable params: 322\n",
      "_________________________________________________________________\n"
     ]
    }
   ],
   "source": [
    "# 음성 인식기 구현\n",
    "# 입력층\n",
    "my_input = Input(shape=(my_rate, 1))\n",
    "\n",
    "# 2번 그룹\n",
    "x = BatchNormalization()(my_input)\n",
    "x = Conv1D(filters=8, kernel_size=13, activation='relu')(x)\n",
    "x = MaxPool1D(pool_size=3)(x)\n",
    "x = Dropout(my_drop)(x)\n",
    "\n",
    "# 3번 그룹\n",
    "x = Conv1D(filters=16, kernel_size=11, activation='relu')(x)\n",
    "x = MaxPool1D(pool_size=3)(x)\n",
    "x = Dropout(my_drop)(x)\n",
    "\n",
    "# 4번 그룹\n",
    "x = Conv1D(filters=32, kernel_size=9, activation='relu')(x)\n",
    "x = MaxPool1D(pool_size=3)(x)\n",
    "x = Dropout(my_drop)(x)\n",
    "x = BatchNormalization()(x)\n",
    "\n",
    "# 5번 그룹\n",
    "x = Bidirectional(GRU(units=my_hidden, return_sequences=True), merge_mode='sum')(x)\n",
    "x = Bidirectional(GRU(units=my_hidden, return_sequences=True), merge_mode='sum')(x)\n",
    "x = Bidirectional(GRU(units=my_hidden, return_sequences=False), merge_mode='sum')(x)\n",
    "\n",
    "# 6번 그룹\n",
    "x = BatchNormalization()(x)\n",
    "x = Dense(units=256, activation='relu')(x)\n",
    "x = Dense(units=10, activation='relu')(x)\n",
    "x = Dense(units=5, activation='softmax')(x)\n",
    "\n",
    "# 인공 신경망 요약\n",
    "model = Model(inputs=my_input, outputs=x)\n",
    "model.summary()\n"
   ]
  },
  {
   "cell_type": "code",
   "execution_count": 10,
   "metadata": {},
   "outputs": [],
   "source": [
    "model.compile(\n",
    "    optimizer='adam',\n",
    "    loss='categorical_crossentropy',\n",
    "    metrics=['acc']\n",
    ")\n",
    "\n",
    "path = my_path + '/audio.h5'\n",
    "\n",
    "if train_mode:\n",
    "\n",
    "    model.fit(\n",
    "        x_train,\n",
    "        y_train,\n",
    "        epochs=my_epoch,\n",
    "        batch_size=my_batch,\n",
    "        verbose=1\n",
    "    )\n",
    "    model.save_weights(path)\n",
    "else:\n",
    "    model.load_weights(path)"
   ]
  },
  {
   "cell_type": "code",
   "execution_count": 11,
   "metadata": {},
   "outputs": [
    {
     "name": "stdout",
     "output_type": "stream",
     "text": [
      "6/6 [==============================] - 4s 136ms/step - loss: 0.2456 - acc: 0.9049\n",
      "0.915730357170105\n"
     ]
    }
   ],
   "source": [
    "# 모델 평가\n",
    "\n",
    "score = model.evaluate(x_test, y_test)\n",
    "\n",
    "print(score[1])"
   ]
  },
  {
   "cell_type": "code",
   "execution_count": 12,
   "metadata": {},
   "outputs": [
    {
     "name": "stdout",
     "output_type": "stream",
     "text": [
      "음성 데이터 원본 길이 : 41396\n",
      "음성 데이터 자른 길이 : 8000\n",
      "음성 다운 샘플링 결과 :  8000\n",
      "<class 'numpy.ndarray'>\n",
      "(8000,)\n",
      "(1, 8000, 1)\n",
      "내 음생 예측 결과 : yes\n"
     ]
    },
    {
     "data": {
      "image/png": "[encoded data removed]",
      "text/plain": [
       "<Figure size 432x288 with 1 Axes>"
      ]
     },
     "metadata": {
      "needs_background": "light"
     },
     "output_type": "display_data"
    }
   ],
   "source": [
    "# 모델로 예측\n",
    "\n",
    "path = my_path + '/seven.wav'\n",
    "\n",
    "sound, rate = librosa.load(path)\n",
    "\n",
    "print('음성 데이터 원본 길이 :', len(sound))\n",
    "librosa.display.waveplot(sound, rate)\n",
    "\n",
    "def split_wav(data, sample_rate, start, end):\n",
    "    start *= sample_rate\n",
    "    end *= sample_rate\n",
    "    return data[int(start):int(end)]\n",
    "\n",
    "center = len(sound)/2\n",
    "edited_data = split_wav(sound, my_rate, (center-(my_rate/2))/my_rate, (center+(my_rate/2))/my_rate) # 2, 4.756\n",
    "\n",
    "print('음성 데이터 자른 길이 :', len(edited_data))\n",
    "# sound = librosa.resample(edited_data, orig_sr=rate, target_sr=my_rate)\n",
    "\n",
    "sound = edited_data\n",
    "\n",
    "print('음성 다운 샘플링 결과 : ', len(sound))\n",
    "\n",
    "if len(sound) == my_rate:\n",
    "    print(type(sound)) # input type은 항상 넘파이 형태\n",
    "    print(sound.shape)\n",
    "\n",
    "    sound = np.reshape(sound, (1, my_rate, 1)) # 제일 앞의 1은 배치 정보, 데이터의 수, 한번에 처리할 데이터 수\n",
    "\n",
    "    print(sound.shape)\n",
    "\n",
    "\n",
    "    pred = model.predict(sound)\n",
    "\n",
    "    # 'go' : 0, 'happy' : 1, 'seven' : 2, 'stop' : 3, 'yes' : 4\n",
    "    print('내 음생 예측 결과 :', labels[pred.argmax()])"
   ]
  }
 ],
 "metadata": {
  "interpreter": {
   "hash": "781e2de099861e19fb885d31902067b852678b18ba68db43e912f79ad943a7f0"
  },
  "kernelspec": {
   "display_name": "Python 3.8.6 64-bit",
   "language": "python",
   "name": "python3"
  },
  "language_info": {
   "codemirror_mode": {
    "name": "ipython",
    "version": 3
   },
   "file_extension": ".py",
   "mimetype": "text/x-python",
   "name": "python",
   "nbconvert_exporter": "python",
   "pygments_lexer": "ipython3",
   "version": "3.8.6"
  },
  "orig_nbformat": 4
 },
 "nbformat": 4,
 "nbformat_minor": 2
}
