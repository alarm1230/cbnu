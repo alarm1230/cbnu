{
 "cells": [
  {
   "cell_type": "code",
   "execution_count": 1,
   "metadata": {},
   "outputs": [],
   "source": [
    "import pandas as pd\n",
    "import matplotlib.pyplot as plt\n",
    "import seaborn as sns\n",
    "\n",
    "import torch\n",
    "from torch import nn\n",
    "\n",
    "from sklearn.model_selection import train_test_split\n",
    "from sklearn.preprocessing import StandardScaler, MinMaxScaler\n",
    "from sklearn.metrics import f1_score, confusion_matrix"
   ]
  },
  {
   "cell_type": "code",
   "execution_count": 2,
   "metadata": {},
   "outputs": [
    {
     "data": {
      "text/plain": [
       "<torch._C.Generator at 0x23f746d5090>"
      ]
     },
     "execution_count": 2,
     "metadata": {},
     "output_type": "execute_result"
    }
   ],
   "source": [
    "INPUT_DIM = 13\n",
    "MY_HIDDEN = 1000\n",
    "MY_EPOCH = 100\n",
    "\n",
    "# 가중치의 초기값 설정 시드\n",
    "torch.manual_seed(111)"
   ]
  },
  {
   "cell_type": "code",
   "execution_count": 3,
   "metadata": {},
   "outputs": [],
   "source": [
    "data = pd.read_csv(\"데이터셋/heart.csv\")\n",
    "\n",
    "x_data = data.drop('target', axis=1)\n",
    "y_data = data['target']\n",
    "\n",
    "names = x_data.columns\n"
   ]
  },
  {
   "cell_type": "code",
   "execution_count": 4,
   "metadata": {},
   "outputs": [],
   "source": [
    "x_train, x_test, y_train, y_test = train_test_split(x_data, y_data, test_size=0.3)"
   ]
  },
  {
   "cell_type": "code",
   "execution_count": 5,
   "metadata": {},
   "outputs": [],
   "source": [
    "scaler = StandardScaler()\n",
    "x_train = scaler.fit_transform(x_train)\n",
    "x_test = scaler.fit_transform(x_test)\n",
    "\n",
    "x_train = pd.DataFrame(x_train, columns=names)\n",
    "x_test = pd.DataFrame(x_test , columns=names)"
   ]
  },
  {
   "cell_type": "code",
   "execution_count": 6,
   "metadata": {},
   "outputs": [
    {
     "data": {
      "image/png": "[encoded data removed]",
      "text/plain": [
       "<Figure size 1296x720 with 1 Axes>"
      ]
     },
     "metadata": {
      "needs_background": "light"
     },
     "output_type": "display_data"
    }
   ],
   "source": [
    "plt.figure(figsize=(18, 10))\n",
    "sns.boxplot(data=x_train, palette=\"colorblind\")\n",
    "plt.show()"
   ]
  },
  {
   "cell_type": "code",
   "execution_count": 7,
   "metadata": {},
   "outputs": [],
   "source": [
    "model = nn.Sequential(\n",
    "    nn.Linear(INPUT_DIM, MY_HIDDEN),\n",
    "    nn.Tanh(),\n",
    "    nn.Linear(MY_HIDDEN, MY_HIDDEN),\n",
    "    nn.Tanh(),\n",
    "    nn.Linear(MY_HIDDEN, 1),\n",
    "    nn.Sigmoid()\n",
    ")"
   ]
  },
  {
   "cell_type": "code",
   "execution_count": 8,
   "metadata": {},
   "outputs": [
    {
     "name": "stdout",
     "output_type": "stream",
     "text": [
      "dnn 요약\n",
      "Sequential(\n",
      "  (0): Linear(in_features=13, out_features=1000, bias=True)\n",
      "  (1): Tanh()\n",
      "  (2): Linear(in_features=1000, out_features=1000, bias=True)\n",
      "  (3): Tanh()\n",
      "  (4): Linear(in_features=1000, out_features=1, bias=True)\n",
      "  (5): Sigmoid()\n",
      ")\n",
      "총 파라미터 수: 1016001\n"
     ]
    }
   ],
   "source": [
    "print('dnn 요약')\n",
    "print(model)\n",
    "\n",
    "# 총 파라미터 수 계산\n",
    "total = sum(p.numel() for p in model.parameters())\n",
    "print(f'총 파라미터 수: {total}')"
   ]
  },
  {
   "cell_type": "code",
   "execution_count": 9,
   "metadata": {},
   "outputs": [],
   "source": [
    "# 최적화 함수, 손실 함수 지정\n",
    "\n",
    "optimizer = torch.optim.SGD(model.parameters(), lr=0.01)\n",
    "criterion = nn.MSELoss()\n",
    "\n",
    "# 학습용 데이터 전환\n",
    "# pandas dataframe에서 pytorch 텐서로 \n",
    "\n",
    "x_train = torch.tensor(x_train.values).float()\n",
    "y_train = torch.tensor(y_train.values).float()"
   ]
  },
  {
   "cell_type": "code",
   "execution_count": 10,
   "metadata": {},
   "outputs": [
    {
     "name": "stdout",
     "output_type": "stream",
     "text": [
      "epoch : 0\n",
      "손실 : 0.2503094971179962\n",
      "epoch : 10\n",
      "손실 : 0.196427583694458\n",
      "epoch : 20\n",
      "손실 : 0.1679137647151947\n",
      "epoch : 30\n",
      "손실 : 0.15208637714385986\n",
      "epoch : 40\n",
      "손실 : 0.1424744576215744\n",
      "epoch : 50\n",
      "손실 : 0.13614867627620697\n",
      "epoch : 60\n",
      "손실 : 0.13171187043190002\n",
      "epoch : 70\n",
      "손실 : 0.1284419149160385\n",
      "epoch : 80\n",
      "손실 : 0.1259365975856781\n",
      "epoch : 90\n",
      "손실 : 0.123957060277462\n"
     ]
    }
   ],
   "source": [
    "# dnn 학습\n",
    "\n",
    "for epoch in range(MY_EPOCH):\n",
    "    output = model(x_train)\n",
    "\n",
    "    # 출력값 차원을 (212, 1)에서 (212,)로 조정\n",
    "    output = torch.squeeze(output)\n",
    "\n",
    "    # 손실값 계산\n",
    "    loss = criterion(output, y_train)\n",
    "\n",
    "    if (epoch % 10 == 0):\n",
    "        print(f\"epoch : {epoch}\")\n",
    "        print(f'손실 : {loss.item()}')\n",
    "\n",
    "    # 역전파 알고리즘으로 가중치 보정\n",
    "\n",
    "    optimizer.zero_grad() # 기울기 구하기에 앞서 기울기를 0으로 초기화\n",
    "    loss.backward() # 역전파 알고리즘으로 역방향 계산\n",
    "    optimizer.step() # 가중치를 업데이트\n",
    "\n"
   ]
  },
  {
   "cell_type": "code",
   "execution_count": 11,
   "metadata": {},
   "outputs": [
    {
     "name": "stdout",
     "output_type": "stream",
     "text": [
      "tensor([0.8019, 0.0738, 0.8824, 0.8856, 0.8962, 0.5889, 0.8494, 0.0592, 0.6951,\n",
      "        0.1998, 0.0631, 0.1767, 0.1259, 0.6573, 0.8971, 0.1003, 0.1968, 0.2837,\n",
      "        0.1482, 0.6173, 0.2984, 0.2874, 0.7120, 0.2718, 0.7211, 0.9227, 0.6073,\n",
      "        0.3325, 0.8761, 0.8498, 0.1510, 0.7844, 0.6757, 0.3610, 0.7023, 0.8523,\n",
      "        0.0802, 0.5406, 0.7986, 0.5303, 0.2374, 0.8013, 0.4244, 0.6362, 0.1507,\n",
      "        0.7056, 0.5480, 0.8560, 0.4934, 0.4093, 0.6144, 0.2398, 0.8484, 0.7630,\n",
      "        0.2741, 0.9188, 0.9255, 0.7314, 0.7419, 0.7944, 0.6543, 0.7120, 0.8465,\n",
      "        0.1409, 0.9557, 0.3071, 0.9331, 0.6005, 0.7306, 0.7313, 0.2743, 0.9149,\n",
      "        0.0569, 0.7058, 0.8009, 0.0636, 0.5599, 0.0727, 0.6476, 0.1272, 0.9023,\n",
      "        0.9272, 0.0598, 0.8197, 0.8887, 0.9159, 0.1137, 0.7295, 0.1066, 0.6387,\n",
      "        0.2537])\n"
     ]
    }
   ],
   "source": [
    "# 인공 신경망 평가\n",
    "# 평가용 데이터 전환\n",
    "x_test = torch.tensor(x_test.values).float()\n",
    "\n",
    "\n",
    "# 가중치 관련 계산 불필요\n",
    "with torch.no_grad():\n",
    "    pred = model(x_test)\n",
    "\n",
    "print(pred.flatten())"
   ]
  },
  {
   "cell_type": "code",
   "execution_count": 12,
   "metadata": {},
   "outputs": [
    {
     "name": "stdout",
     "output_type": "stream",
     "text": [
      "[ True False  True  True  True  True  True False  True False False False\n",
      " False  True  True False False False False  True False False  True False\n",
      "  True  True  True False  True  True False  True  True False  True  True\n",
      " False  True  True  True False  True False  True False  True  True  True\n",
      " False False  True False  True  True False  True  True  True  True  True\n",
      "  True  True  True False  True False  True  True  True  True False  True\n",
      " False  True  True False  True False  True False  True  True False  True\n",
      "  True  True False  True False  True False]\n",
      "최종 정확도(f1 score) : 0.8349514563106796\n"
     ]
    }
   ],
   "source": [
    "# 추측 결과 텐서를 numpy로 전환\n",
    "pred = pred.numpy()\n",
    "\n",
    "# 확률을 이진수로 전환 후, f1 점수 계산\n",
    "pred = (pred > 0.5)\n",
    "print(pred.flatten())\n",
    "\n",
    "f1 = f1_score(y_test, pred)\n",
    "print(f'최종 정확도(f1 score) : {f1}')"
   ]
  },
  {
   "cell_type": "code",
   "execution_count": 1,
   "metadata": {},
   "outputs": [],
   "source": []
  }
 ],
 "metadata": {
  "interpreter": {
   "hash": "781e2de099861e19fb885d31902067b852678b18ba68db43e912f79ad943a7f0"
  },
  "kernelspec": {
   "display_name": "Python 3.8.6 64-bit",
   "language": "python",
   "name": "python3"
  },
  "language_info": {
   "codemirror_mode": {
    "name": "ipython",
    "version": 3
   },
   "file_extension": ".py",
   "mimetype": "text/x-python",
   "name": "python",
   "nbconvert_exporter": "python",
   "pygments_lexer": "ipython3",
   "version": "3.8.6"
  },
  "orig_nbformat": 4
 },
 "nbformat": 4,
 "nbformat_minor": 2
}
